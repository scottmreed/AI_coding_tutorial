{
  "cells": [
    {
      "cell_type": "markdown",
      "metadata": {},
      "source": [
        "# Using GPTs to Enhance Learning Python for the Molecular Sciences\n",
        "This is a tutorial on how to utilize Generative Pre-trained Transformers (GPTs) to enhance your programming learning experience. \n",
        "This notebook will guide you through various strategies and methods for effectively using GPTs as a coding mentor, \n",
        "understanding safety and ethical concerns, debugging your code, and learning about specialized chemistry Python packages.\n",
        "Keep in mind, training for GPTs are  updated over time and examples in this notebook may give different results over time. \n",
        "Also, prior questions asked within the same session can influence the outcome of a later question.\n",
        "This tutorial can be run on colab, https://chemcompute.org, or locally using Jupyter."
      ]
    },
    {
      "cell_type": "markdown",
      "metadata": {},
      "source": [
        "## Limitations of GPTs"
      ]
    },
    {
      "cell_type": "markdown",
      "metadata": {},
      "source": [
        "GPT 3.5 is freely available (https://chatgpt.com/) and powerful enough to perform the functions in this tutorial. We will learn about other options but for many applications, GPT 3.5 will provide what we need. Other free options can be tested at https://labs.perplexity.ai. \n",
        "It is important to know the limitations of GPT 3.5. It returns a maximum of 4,096 output tokens and allows an input of 16,385 tokens (Tokens are approximately the size of words). Its training data is from up to Sep 2021. "
      ]
    },
    {
      "cell_type": "markdown",
      "metadata": {},
      "source": [
        "<span style=\"color:blue\"><strong>CHAT PROMPT:</strong> Has lecanemab been approved for any treatments by the FDA?</span>"
      ]
    },
    {
      "cell_type": "markdown",
      "metadata": {},
      "source": [
        "GPT 3.5 should be unaware of the recent approval of lecanemab for Alzheimer's. However, the token window is large enough you can past \n",
        "the wikipedia entry https://en.wikipedia.org/wiki/Lecanemab into your prompt. \n",
        "Try copying that textg and pasting it in after this prompt:"
      ]
    },
    {
      "cell_type": "markdown",
      "metadata": {},
      "source": [
        " <span style=\"color:blue\"><strong>CHAT PROMPT:</strong> Considering the information, what does lecanemab cost: </span>"
      ]
    },
    {
      "cell_type": "markdown",
      "metadata": {},
      "source": [
        "## Few shot prompting\n",
        "Few-shot prompting can be used as a technique to enable in-context learning for your GPT. The examples above are zero-shot prompting.\n",
        "In zero-shot prompting no examples are provided to the GPT.\n",
        "\n",
        "Few-shot prompting is a technique where you provide a model with a few examples of the type of information or answers you are seeking. \n",
        "This sets the context and helps the model understand the format and depth of response required. \n",
        "Here’s how you could structure a few-shot prompt for a chemistry problem."
      ]
    },
    {
      "cell_type": "markdown",
      "metadata": {},
      "source": [
        "Few-Shot Prompting Example in Chemistry\n",
        "Problem: Predict the products of the following chemical reactions and explain the reaction type:\n",
        "\n",
        "<span style=\"color:blue\"><strong>CHAT PROMPT:</strong> </span>\n",
        "<span style=\"color:blue\">Example 1:\n",
        "\n",
        "Reaction: CH3\n",
        "CH2\n",
        "OH +\n",
        "PCC CH  3CH2\n",
        "​\t\n",
        " OH+PCC\n",
        "Conditions: In dichloromethane at room temperature.\n",
        "Products: \n",
        "CH\n",
        "3\n",
        "CHO\n",
        "CH \n",
        "3\n",
        "​\t\n",
        " CHO\n",
        "Explanation: The reaction is an oxidation. Primary alcohols like ethanol react with pyridinium chlorochromate (PCC) under these conditions to form aldehydes.\n",
        "\n",
        "Example 2:\n",
        "\n",
        "Reaction: \n",
        "CH\n",
        "3\n",
        "COOH\n",
        "+\n",
        "CH\n",
        "3\n",
        "OH\n",
        "CH \n",
        "3​\t\n",
        " COOH+CH \n",
        "3​\t\n",
        " OH\n",
        "Conditions: With sulfuric acid as a catalyst.\n",
        "Products: \n",
        "CH\n",
        "3\n",
        "COOCH\n",
        "3\n",
        "+\n",
        "H\n",
        "2\n",
        "O\n",
        "CH \n",
        "3​\t\n",
        " COOCH \n",
        "3​\t\n",
        " +H \n",
        "2\n",
        " O\n",
        "Explanation: This is an esterification reaction. Acetic acid reacts with methanol in the presence of an acid catalyst to form methyl acetate and water.\n",
        "\n",
        "Reaction: \n",
        "C\n",
        "6\n",
        "H\n",
        "5\n",
        "COOH\n",
        "+\n",
        "SOCl\n",
        "2\n",
        "C6​H5​\t\n",
        " COOH+SOCl \n",
        "2\n",
        "​\t\n",
        " \n",
        "Conditions: In the presence of pyridine.\n",
        "Predict the products and explain the reaction type.</span>\n",
        "\n",
        "Explanation of the Few-Shot Prompt\n",
        "Providing Examples: The first three examples act as a teaching guide. Each includes a different type of chemical reaction, explaining not just the products but also the type of reaction and conditions under which it occurs. This helps the model understand what kind of information is expected in the answer.\n",
        "Specific Query: The final query is designed to test if the model can apply the pattern it might have recognized from the examples to a new scenario. By including specific reactants and conditions, the prompt encourages the model to consider both the chemical properties and the context provided by the examples.\n",
        "Structured Format: The consistent format across examples helps GPT-4 understand and maintain the structure in its response, making it more likely to provide both the reaction products and a succinct explanation of the reaction type.\n",
        "By using this few-shot prompting technique, you help the model better understand the task and provide more accurate and contextually appropriate answers, especially for complex subjects like chemistry."
      ]
    },
    {
      "cell_type": "markdown",
      "metadata": {},
      "source": [
        "## Strategies and Methods for Using GPTs as a Coding Mentor\n",
        "In this module, you'll learn how to use GPTs for generating, testing, and troubleshooting Python code. We'll also explore methods for integrating AI tools into your coding environment.\n",
        "One option if to use GPT to create stand along scripts that perform a function without any editing. \n",
        "For example try asking GPT to create a program that calculates the distance between each atom of water in the following coordinates:\n",
        "Water xyz file\n",
        "\n",
        "|atom|x|y|z\n",
        "|---------|--------------|--------------|------\n",
        "|O        |0.000000      |-0.007156     |0.965491\n",
        "|H1       |-0.000000     |0.001486      |-0.003471\n",
        "|H2       |0.000000      |0.931026      |1.207929"
      ]
    },
    {
      "cell_type": "code",
      "execution_count": null,
      "metadata": {},
      "outputs": [],
      "source": [
        "# Here is an example of a GPT 4 generated answer. How does GPT 3.5 compare?\n",
        "import math\n",
        "\n",
        "def calculate_distance(coord1, coord2):\n",
        "    \"\"\"Calculate the Euclidean distance between two 3D points.\"\"\"\n",
        "    return math.sqrt((coord2[0] - coord1[0]) ** 2 + (coord2[1] - coord1[1]) ** 2 + (coord2[2] - coord1[2]) ** 2)\n",
        "\n",
        "def main():\n",
        "    # Coordinates of atoms in a water molecule: O, H1, H2\n",
        "    atoms = {\n",
        "        'O': (0.000000, -0.007156, 0.965491),\n",
        "        'H1': (-0.000000, 0.001486, -0.003471),\n",
        "        'H2': (0.000000, 0.931026, 1.207929)\n",
        "    }\n",
        "\n",
        "    # Calculate distances between each pair of atoms\n",
        "    atom_keys = list(atoms.keys())\n",
        "    for i in range(len(atom_keys)):\n",
        "        for j in range(i + 1, len(atom_keys)):\n",
        "            atom1, atom2 = atom_keys[i], atom_keys[j]\n",
        "            distance = calculate_distance(atoms[atom1], atoms[atom2])\n",
        "            print(f\"Distance between {atom1} and {atom2}: {distance:.6f}\")\n",
        "\n",
        "if __name__ == \"__main__\":\n",
        "    main()\n",
        "\n",
        "# Note: These last two lines are the common method to make a python script execute the main function"
      ]
    },
    {
      "cell_type": "markdown",
      "metadata": {},
      "source": [
        "## Safety, Ethics, and Avoiding Hallucinations\n",
        "Learn how to identify and address inaccuracies in AI-generated material, understand copyright and license issues, and recognize security vulnerabilities.\n",
        "\n",
        "## Avoiding Hallucinations\n",
        "Try asking ChatGPT 3.5 for the molecular weight of ibuprofen.\n",
        "Try asking ChatGPT 3.5 for the molecular weight of CC(Cc1ccc(cc1)C(C(=O)O)C)C (which is ibuprofen)\n",
        "\n",
        "The first prompt should succeed since this information is in the training data. The second prompt failed at the time of writing. Why? What did it do wrong?"
      ]
    },
    {
      "cell_type": "markdown",
      "metadata": {},
      "source": [
        "We will learn about tools to perform such calculations accurately later. For now assume there is no such tool and \n",
        "see if Chat GPT 3.5 can create one for you. Try the prompt: Create a function that takes an input molecular formula and\n",
        "calculates a molecular weight for the molecule. Paste that function below and run the cell. Then test the function with \n",
        "the molecular formula for ibuprofen using the following three lines:\n",
        "\n"
      ]
    },
    {
      "cell_type": "code",
      "execution_count": null,
      "metadata": {},
      "outputs": [],
      "source": [
        "# Insert your function below\n",
        "\n",
        "formula = \"C13H18O2\" # this sets variable equal to a text string that is the molecular formula for ibuprofen\n",
        "molecular_weight = calculate_molecular_weight(formula) # this runs your variable through your function (if it is named the same as mine)\n",
        "print(\"Molecular weight of\", formula, \"is:\", molecular_weight, \"g/mol\") #This printe the results"
      ]
    },
    {
      "cell_type": "markdown",
      "metadata": {},
      "source": [
        "An example of a function provided by GPT 3.5 is provided below. It may not match the one you obtain. Compare these to what you wrote yesterday"
      ]
    },
    {
      "cell_type": "code",
      "execution_count": null,
      "metadata": {},
      "outputs": [],
      "source": [
        "def calculate_molecular_weight(formula):\n",
        "    # Define atomic weights dictionary\n",
        "    atomic_weights = {'H': 1.008, 'C': 12.01, 'N': 14.01, 'O': 16.00, 'P': 30.97, 'S': 32.07}\n",
        "\n",
        "    # Initialize molecular weight\n",
        "    molecular_weight = 0\n",
        "\n",
        "    # Iterate through the formula\n",
        "    i = 0\n",
        "    while i < len(formula):\n",
        "        # Extract element symbol\n",
        "        element = formula[i]\n",
        "\n",
        "        # Check if the element has a lowercase letter (indicating additional atoms)\n",
        "        if i + 1 < len(formula) and formula[i + 1].islower():\n",
        "            # If yes, concatenate the lowercase letter(s) to the element symbol\n",
        "            element += formula[i + 1]\n",
        "            i += 1\n",
        "\n",
        "        # Move to the next character in the formula\n",
        "        i += 1\n",
        "\n",
        "        # Extract the number of atoms for the element (default to 1 if not specified)\n",
        "        num_atoms = 1\n",
        "        if i < len(formula) and formula[i].isdigit():\n",
        "            # Extract the number of atoms for the element\n",
        "            num_atoms_str = ''\n",
        "            while i < len(formula) and formula[i].isdigit():\n",
        "                num_atoms_str += formula[i]\n",
        "                i += 1\n",
        "            num_atoms = int(num_atoms_str)\n",
        "\n",
        "        # Add the contribution of the current element to the molecular weight\n",
        "        molecular_weight += atomic_weights[element] * num_atoms\n",
        "\n",
        "    return molecular_weight\n"
      ]
    },
    {
      "cell_type": "markdown",
      "metadata": {},
      "source": [
        "## Debugging Your Code with GPTs\n",
        "Use AI to debug your code, understand error messages, and refine your solutions."
      ]
    },
    {
      "cell_type": "code",
      "execution_count": null,
      "metadata": {},
      "outputs": [],
      "source": [
        "buggy_code = 'for i in range(5 print(i)'\n",
        "fixed_code = 'for i in range(5): print(i)'\n",
        "print('Buggy code:', buggy_code)\n",
        "print('Fixed code:', fixed_code)"
      ]
    },
    {
      "cell_type": "markdown",
      "metadata": {},
      "source": [
        "## Chemistry Python Package Use through GPTs\n",
        "Learn about tools like RDKit that GPTs are conversant in and how to expand a GPT's knowledge to meet your needs in molecular sciences."
      ]
    },
    {
      "cell_type": "code",
      "execution_count": null,
      "metadata": {},
      "outputs": [],
      "source": [
        "rdkit_prompt = 'Show how to calculate the molecular weight of benzene using RDKit'\n",
        "rdkit_response = 'from rdkit import Chem\\nfrom rdkit.Chem import Descriptors\\nbenzene = Chem.MolFromSmiles(\"C6H6\")\\nmol_weight = Descriptors.MolWt(benzene)\\nprint(\"Molecular weight of benzene:\", mol_weight, \"g/mol\")'\n",
        "print('RDKit prompt:', rdkit_prompt)\n",
        "print('RDKit response:', rdkit_response)"
      ]
    },
    {
      "cell_type": "code",
      "execution_count": null,
      "metadata": {},
      "outputs": [],
      "source": [
        "import pandas as pd\n",
        "\n",
        "# Assuming your data is stored in a CSV file called 'data.csv'\n",
        "# Replace 'data.csv' with the path to your actual data file\n",
        "data = pd.read_csv('distance_data_headers.csv')\n",
        "\n",
        "# Calculate the mean of just the 'THR4_ATP' column using every row\n",
        "mean_thr4_atp = data['THR4_ATP'].mean()\n",
        "\n",
        "print(\"Mean of THR4_ATP column:\", mean_thr4_atp)\n"
      ]
    },
    {
      "cell_type": "markdown",
      "metadata": {},
      "source": [
        "## Prompt Engineering\n",
        "## Specificity\n",
        "Be clear and specific with your instructions: When asking for a chemical reaction mechanism, specify the type of reaction (e.g., nucleophilic substitution) and any particular conditions (e.g., solvent, temperature) that should be considered.\n",
        "Clear tasks or questions will usually get better responses: For example, instead of asking \"How does this compound react?\", ask \"What are the major products when compound X reacts with Y under acidic conditions?\"\n",
        "Longer, more detailed prompts often produce better results: Provide complete information about the reactants, possible catalysts, and the desired type of reaction outcome to help the model generate a more accurate response.\n",
        "Delimiters can help the model separate conceptual sections of your prompt: For instance, you can differentiate between the reaction setup and the question by using bullet points or separating them with line breaks.\n",
        "Context\n",
        "Give ample context on what you’re trying to achieve and how: If you're looking for a synthesis pathway, describe the starting materials and the target molecule, including functional groups and stereochemistry.\n",
        "Role prompting can help you give initial context on how the model should respond to future prompts: You could set up a scenario where the model acts as a research chemist who is designing a novel synthetic route.\n",
        "Few-shot prompting means that you’re adding examples of your expected output to your prompt: Provide examples of similar chemical reactions or pathways to guide the model on the type of response you expect.\n",
        "## Reasoning\n",
        "Instruct the model to build complex answers incrementally instead of pushing for immediate answers: Request a step-by-step explanation of a reaction mechanism, detailing each intermediate and transition state.\n",
        "Spelling out the necessary steps for completing the task helps the model correctly do tasks that would otherwise produce incorrect results: For computational chemistry tasks, describe each computational method or software to be used, along with the desired outputs (e.g., energy minimization, charge distribution).\n",
        "Even without spelling out the steps yourself, you can often improve the results by adding a sentence that asks the model to tackle the challenge step by step: For example, \"Please describe each step involved in the electrophilic addition of HBr to 1-butene.\"\n",
        "When asking the model to assess whether a provided input is correct, ask the model to build its own solution first before deciding: If questioning the plausibility of a synthetic route, provide the route and ask the model to suggest possible improvements or identify potential issues in the proposed steps.\n",
        "These adaptations help ensure that your prompts are tailored to generate more precise and relevant answers in a chemistry context, improving the utility of responses for educational, research, or practical applications."
      ]
    },
    {
      "cell_type": "markdown",
      "metadata": {},
      "source": []
    }
  ],
  "metadata": {
    "kernelspec": {
      "display_name": "my-rdkit-env",
      "language": "python",
      "name": "my-rdkit-env"
    },
    "language_info": {
      "codemirror_mode": {
        "name": "ipython",
        "version": 3
      },
      "file_extension": ".py",
      "mimetype": "text/x-python",
      "name": "python",
      "nbconvert_exporter": "python",
      "pygments_lexer": "ipython3",
      "version": "3.7.9"
    }
  },
  "nbformat": 4,
  "nbformat_minor": 4
}
