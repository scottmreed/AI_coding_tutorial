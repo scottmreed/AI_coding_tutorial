{
 "cells": [
  {
   "cell_type": "markdown",
   "metadata": {},
   "source": [
    "# Using GPTs to Enhance Learning Python for the Molecular Sciences\n",
    "This is a tutorial on how to utilize Generative Pre-trained Transformers (GPTs) to enhance your programming learning experience. \n",
    "This notebook will guide you through various strategies and methods for effectively using GPTs as a coding mentor, \n",
    "understanding safety and ethical concerns, debugging your code, and learning about specialized chemistry Python packages.\n",
    "Keep in mind, training for GPTs are  updated over time and examples in this notebook may give different results over time. \n",
    "Also, prior questions asked within the same session can influence the outcome of a later question.\n",
    "This tutorial can be run on colab, https://chemcompute.org, or locally using Jupyter."
   ]
  },
  {
   "cell_type": "markdown",
   "metadata": {},
   "source": [
    "## Limitations of GPTs"
   ]
  },
  {
   "cell_type": "markdown",
   "metadata": {},
   "source": [
    "GPT 3.5 is freely available (https://chatgpt.com/) and powerful enough to perform the functions in this tutorial. We will learn about other options but for many applications, GPT 3.5 will provide what we need. Other free options can be tested at https://labs.perplexity.ai. \n",
    "It is important to know the limitations of GPT 3.5. It returns a maximum of 4,096 output tokens and allows an input of 16,385 tokens (Tokens are approximately the size of words). Its training data is from up to Sep 2021. "
   ]
  },
  {
   "cell_type": "markdown",
   "metadata": {},
   "source": [
    "<span style=\"color:blue\"><strong>CHAT PROMPT:</strong> Has lecanemab been approved for any treatments by the FDA?</span>"
   ]
  },
  {
   "cell_type": "markdown",
   "metadata": {},
   "source": [
    "GPT 3.5 should be unaware of the recent approval of lecanemab for Alzheimer's. However, the token window is large enough you can past \n",
    "the wikipedia entry https://en.wikipedia.org/wiki/Lecanemab into your prompt. \n",
    "Try copying that textg and pasting it in after this prompt:"
   ]
  },
  {
   "cell_type": "markdown",
   "metadata": {},
   "source": [
    " <span style=\"color:blue\"><strong>CHAT PROMPT:</strong> Considering the information, what does lecanemab cost: </span>"
   ]
  },
  {
   "cell_type": "markdown",
   "metadata": {},
   "source": [
    "## Few shot prompting\n",
    "Few-shot prompting can be used as a technique to enable in-context learning for your GPT. The examples above are zero-shot prompting.\n",
    "In zero-shot prompting no examples are provided to the GPT.\n",
    "\n",
    "Few-shot prompting is a technique where you provide a model with a few examples of the type of information or answers you are seeking. \n",
    "This sets the context and helps the model understand the format and depth of response required. \n",
    "Here’s how you could structure a few-shot prompt for a chemistry problem."
   ]
  },
  {
   "cell_type": "markdown",
   "metadata": {},
   "source": [
    "Few-Shot Prompting Example in Chemistry\n",
    "Problem: Predict the products of the following chemical reactions and explain the reaction type:\n",
    "\n",
    "<span style=\"color:blue\"><strong>CHAT PROMPT:</strong> </span>\n",
    "<span style=\"color:blue\">Example 1:\n",
    "\n",
    "Reaction: CH3\n",
    "CH2\n",
    "OH +\n",
    "PCC CH  3CH2\n",
    "​\t\n",
    " OH+PCC\n",
    "Conditions: In dichloromethane at room temperature.\n",
    "Products: \n",
    "CH\n",
    "3\n",
    "CHO\n",
    "CH \n",
    "3\n",
    "​\t\n",
    " CHO\n",
    "Explanation: The reaction is an oxidation. Primary alcohols like ethanol react with pyridinium chlorochromate (PCC) under these conditions to form aldehydes.\n",
    "\n",
    "Example 2:\n",
    "\n",
    "Reaction: \n",
    "CH\n",
    "3\n",
    "COOH\n",
    "+\n",
    "CH\n",
    "3\n",
    "OH\n",
    "CH \n",
    "3​\t\n",
    " COOH+CH \n",
    "3​\t\n",
    " OH\n",
    "Conditions: With sulfuric acid as a catalyst.\n",
    "Products: \n",
    "CH\n",
    "3\n",
    "COOCH\n",
    "3\n",
    "+\n",
    "H\n",
    "2\n",
    "O\n",
    "CH \n",
    "3​\t\n",
    " COOCH \n",
    "3​\t\n",
    " +H \n",
    "2\n",
    " O\n",
    "Explanation: This is an esterification reaction. Acetic acid reacts with methanol in the presence of an acid catalyst to form methyl acetate and water.\n",
    "\n",
    "Reaction: \n",
    "C\n",
    "6\n",
    "H\n",
    "5\n",
    "COOH\n",
    "+\n",
    "SOCl\n",
    "2\n",
    "C6​H5​\t\n",
    " COOH+SOCl \n",
    "2\n",
    "​\t\n",
    " \n",
    "Conditions: In the presence of pyridine.\n",
    "Predict the products and explain the reaction type.</span>\n",
    "\n",
    "Explanation of the Few-Shot Prompt\n",
    "Providing Examples: The first three examples act as a teaching guide. Each includes a different type of chemical reaction, explaining not just the products but also the type of reaction and conditions under which it occurs. This helps the model understand what kind of information is expected in the answer.\n",
    "Specific Query: The final query is designed to test if the model can apply the pattern it might have recognized from the examples to a new scenario. By including specific reactants and conditions, the prompt encourages the model to consider both the chemical properties and the context provided by the examples.\n",
    "Structured Format: The consistent format across examples helps GPT-4 understand and maintain the structure in its response, making it more likely to provide both the reaction products and a succinct explanation of the reaction type.\n",
    "By using this few-shot prompting technique, you help the model better understand the task and provide more accurate and contextually appropriate answers, especially for complex subjects like chemistry."
   ]
  },
  {
   "cell_type": "markdown",
   "source": [
    "## Strategies and Methods for Data Analysis Using GPTs \n",
    "Download EPA water chemistry data from https://catalog.data.gov/dataset/cimek-water-chemistry. Select two columns of data and paste them into a GPT 3.5 prompt and ask for a scatterplot of the two variables. In a second prompt ask for help calculting a correlation coefficient. "
   ],
   "metadata": {
    "collapsed": false
   }
  },
  {
   "cell_type": "code",
   "outputs": [],
   "source": [
    "# Paste your code examples here and run them\n"
   ],
   "metadata": {
    "collapsed": false,
    "ExecuteTime": {
     "end_time": "2024-05-21T14:10:41.099245Z",
     "start_time": "2024-05-21T14:10:41.008348Z"
    }
   },
   "execution_count": 1
  },
  {
   "cell_type": "markdown",
   "source": [
    "## Strategies and Methods for Using GPTs as a Source for Code \n",
    "In this module, you will try writing a prompt that generates a stand alone script that has some utility but that you don't plan to expand upon. You will provide context from a paper from the literature that has data you want to visualize in a new or different way than presented in the paper.\n",
    "You can pick your own paper. Or try the following example. Download the supporting information for the paper: [Emerging Brominated Flame Retardants in the Sediment of the Great Lakes](https://figshare.com/articles/journal_contribution/Emerging_Brominated_Flame_Retardants_in_the_Sediment_of_the_Great_Lakes/2538658?backTo=/collections/Emerging_Brominated_Flame_Retardants_in_the_Sediment_of_the_Great_Lakes/2506861)\n",
    "Cut and past data from this document into the context window and add a prompt requesting a new graph. "
   ],
   "metadata": {
    "collapsed": false
   }
  },
  {
   "cell_type": "code",
   "outputs": [],
   "source": [
    "# Paste your code examples here and run them\n"
   ],
   "metadata": {
    "collapsed": false,
    "ExecuteTime": {
     "end_time": "2024-05-21T14:10:41.136845Z",
     "start_time": "2024-05-21T14:10:41.105766Z"
    }
   },
   "execution_count": 2
  },
  {
   "cell_type": "code",
   "outputs": [
    {
     "name": "stderr",
     "output_type": "stream",
     "text": [
      "/opt/anaconda3/envs/my-rdkit-env/lib/python3.7/site-packages/geopandas/array.py:275: ShapelyDeprecationWarning: The array interface is deprecated and will no longer work in Shapely 2.0. Convert the '.coords' to a numpy array instead.\n",
      "  return GeometryArray(vectorized.points_from_xy(x, y, z), crs=crs)\n"
     ]
    },
    {
     "data": {
      "text/plain": "<Figure size 1000x800 with 2 Axes>",
      "image/png": "[encoded data removed]"
     },
     "metadata": {},
     "output_type": "display_data"
    }
   ],
   "source": [
    "# Try running this example from \"Emerging Brominated Flame Retardants in the Sediment of the Great Lakes\"\n",
    "# Generated by GPT 4\n",
    "# % pip install geopandas\n",
    "import matplotlib.pyplot as plt\n",
    "import pandas as pd\n",
    "import geopandas as gpd\n",
    "# from shapely.geometry import Point\n",
    "\n",
    "# Data from Table S2\n",
    "data = {\n",
    "    'Station': ['SU08', 'SU12', 'SU16', 'SU22', 'LM18', 'LM27', 'LM41', 'LM47', 'HU12', 'HU38', 'HU48', 'ER09', 'ER37', 'ON19', 'ON30', 'ON40'],\n",
    "    'Latitude': [47.6059, 47.8552, 47.6217, 46.7997, 42.7333, 43.5988, 44.7365, 45.1788, 43.8902, 44.742, 45.2787, 42.5382, 42.1097, 43.3717, 43.5323, 43.5833],\n",
    "    'Longitude': [-86.8180, -88.0465, -89.4631, -91.7484, -86.9997, -86.9143, -86.7221, -86.376, -82.0558, -82.0583, -82.4515, -79.6162, -81.5755, -79.3523, -76.9002, -78.0004],\n",
    "    'HCDBCO_conc': [0.5, 0.3, 0.1, 0.4, 1.2, 0.5, 0.7, 0.8, 0.2, 0.4, 0.1, 0.6, 0.8, 0.9, 1.0, 1.2] # Sample concentrations\n",
    "}\n",
    "\n",
    "# Create DataFrame\n",
    "df = pd.DataFrame(data)\n",
    "\n",
    "# Create a GeoDataFrame\n",
    "gdf = gpd.GeoDataFrame(df, geometry=gpd.points_from_xy(df.Longitude, df.Latitude))\n",
    "\n",
    "# Set the coordinate reference system (CRS) to WGS84 (EPSG:4326)\n",
    "gdf.set_crs(epsg=4326, inplace=True)\n",
    "\n",
    "# Plot the map\n",
    "fig, ax = plt.subplots(figsize=(10, 8))\n",
    "\n",
    "# Plot points with color based on concentration\n",
    "gdf.plot(ax=ax, column='HCDBCO_conc', cmap='coolwarm', markersize=50, legend=True, legend_kwds={'label': \"HCDBCO Concentration (ng/g dw)\", 'orientation': \"horizontal\"})\n",
    "\n",
    "# Add labels for stations\n",
    "for x, y, label in zip(gdf.geometry.x, gdf.geometry.y, gdf['Station']):\n",
    "    ax.text(x, y, label, fontsize=8, ha='right')\n",
    "\n",
    "# Set title and labels\n",
    "ax.set_title('Surface Concentrations of HCDBCO in Sediment Core Sampling Sites')\n",
    "ax.set_xlabel('Longitude')\n",
    "ax.set_ylabel('Latitude')\n",
    "\n",
    "plt.show()\n"
   ],
   "metadata": {
    "collapsed": false,
    "ExecuteTime": {
     "end_time": "2024-05-21T15:19:03.069684Z",
     "start_time": "2024-05-21T15:19:01.283842Z"
    }
   },
   "execution_count": 8
  },
  {
   "cell_type": "markdown",
   "metadata": {},
   "source": [
    "## Strategies and Methods for Using GPTs as a Coding Mentor\n",
    "In this module, you'll learn how to use GPTs for generating, testing, and troubleshooting Python code interactively. We'll also explore methods for integrating AI tools into your coding environment.\n",
    "One option if to use GPT to create stand along scripts that perform a function without any editing. \n",
    "For example try asking GPT to create a program that calculates the distance between each atom of water in the following coordinates:\n",
    "Water xyz file\n",
    "\n",
    "|atom|x|y|z\n",
    "|---------|--------------|--------------|------\n",
    "|O        |0.000000      |-0.007156     |0.965491\n",
    "|H1       |-0.000000     |0.001486      |-0.003471\n",
    "|H2       |0.000000      |0.931026      |1.207929"
   ]
  },
  {
   "cell_type": "code",
   "execution_count": 5,
   "metadata": {
    "ExecuteTime": {
     "end_time": "2024-05-21T15:15:12.757818Z",
     "start_time": "2024-05-21T15:15:12.748200Z"
    }
   },
   "outputs": [
    {
     "name": "stdout",
     "output_type": "stream",
     "text": [
      "Distance between O and H1: 0.969001\n",
      "Distance between O and H2: 0.969000\n",
      "Distance between H1 and H2: 1.526936\n"
     ]
    }
   ],
   "source": [
    "# Here is an example of a GPT 4 generated answer. How does GPT 3.5 compare?\n",
    "import math\n",
    "\n",
    "def calculate_distance(coord1, coord2):\n",
    "    \"\"\"Calculate the Euclidean distance between two 3D points.\"\"\"\n",
    "    return math.sqrt((coord2[0] - coord1[0]) ** 2 + (coord2[1] - coord1[1]) ** 2 + (coord2[2] - coord1[2]) ** 2)\n",
    "\n",
    "def main():\n",
    "    # Coordinates of atoms in a water molecule: O, H1, H2\n",
    "    atoms = {\n",
    "        'O': (0.000000, -0.007156, 0.965491),\n",
    "        'H1': (-0.000000, 0.001486, -0.003471),\n",
    "        'H2': (0.000000, 0.931026, 1.207929)\n",
    "    }\n",
    "\n",
    "    # Calculate distances between each pair of atoms\n",
    "    atom_keys = list(atoms.keys())\n",
    "    for i in range(len(atom_keys)):\n",
    "        for j in range(i + 1, len(atom_keys)):\n",
    "            atom1, atom2 = atom_keys[i], atom_keys[j]\n",
    "            distance = calculate_distance(atoms[atom1], atoms[atom2])\n",
    "            print(f\"Distance between {atom1} and {atom2}: {distance:.6f}\")\n",
    "\n",
    "if __name__ == \"__main__\":\n",
    "    main()\n",
    "\n",
    "# Note: These last two lines are the common method to make a python script execute the main function"
   ]
  },
  {
   "cell_type": "markdown",
   "source": [
    "Next, try writing a prompt to accomplish the first project extension from Day 1: Your initial project calculated the distance between every set of atoms. However, some of these atoms aren’t really bonded to each other. H1 and H2 are not bonded for example, and all of the distances between an atom and itself are zero. Use a distance cutoff of 1.5 angstroms to define a bond (that is, if the bond length is greater than 1.5 angstroms, consider the atoms not bonded). Modify your code to only print the atoms that are actually bonded to each other."
   ],
   "metadata": {
    "collapsed": false
   }
  },
  {
   "cell_type": "code",
   "outputs": [],
   "source": [
    "# Paste your code examples here and run them"
   ],
   "metadata": {
    "collapsed": false,
    "ExecuteTime": {
     "start_time": "2024-05-21T14:10:43.104572Z"
    }
   }
  },
  {
   "cell_type": "markdown",
   "source": [
    "Section 6 of Python Scripting for Computational Molecular Science focuses on writing functions. That section suggests: \"To think about where we should write functions in this code, let’s think about parts we may want to use again or in other places. One of the first places we might think of is in the bond distance calculation. Perhaps we’d want to calculate a bond distance in some other script. We can reduce the likelihood of errors in our code by defining this in a function (so that if we wanted to change our bond calculation, we would only have to do it in one place.)\n",
    "\n",
    "Let’s change this code so that we write a function to calculate the bond distance. As explained above, to define a function, you start with the word def and then give the name of the function. In parenthesis are in inputs of the function followed by a colon. The the statements the function is going to execute are indented on the next lines. For this function, we will return a value. The last line of a function shows the return value for the function, which we can use to store a variable with the output value. Let’s write a function to calculate the distance between atoms.\"\n",
    "\n",
    "This text could be used as a prompt. Combined with the script below this prompt should be enough for GPT3.5 to create proerpy functionalized code. You could also use a simpler prompt, simply asking GPT3.5 to \"Re-write this script to include multiple separate functions that would accomplish the same overall goal\" "
   ],
   "metadata": {
    "collapsed": false
   }
  },
  {
   "cell_type": "code",
   "outputs": [
    {
     "ename": "OSError",
     "evalue": "data/water.xyz not found.",
     "output_type": "error",
     "traceback": [
      "\u001B[0;31m---------------------------------------------------------------------------\u001B[0m",
      "\u001B[0;31mOSError\u001B[0m                                   Traceback (most recent call last)",
      "\u001B[0;32m/var/folders/bk/s9lxqhjj0_g7f585_pvyfk2w0000gn/T/ipykernel_37281/271854655.py\u001B[0m in \u001B[0;36m<module>\u001B[0;34m\u001B[0m\n\u001B[1;32m      4\u001B[0m \u001B[0;34m\u001B[0m\u001B[0m\n\u001B[1;32m      5\u001B[0m \u001B[0mfile_location\u001B[0m \u001B[0;34m=\u001B[0m \u001B[0mos\u001B[0m\u001B[0;34m.\u001B[0m\u001B[0mpath\u001B[0m\u001B[0;34m.\u001B[0m\u001B[0mjoin\u001B[0m\u001B[0;34m(\u001B[0m\u001B[0;34m'data'\u001B[0m\u001B[0;34m,\u001B[0m \u001B[0;34m'water.xyz'\u001B[0m\u001B[0;34m)\u001B[0m\u001B[0;34m\u001B[0m\u001B[0;34m\u001B[0m\u001B[0m\n\u001B[0;32m----> 6\u001B[0;31m \u001B[0mxyz_file\u001B[0m \u001B[0;34m=\u001B[0m \u001B[0mnumpy\u001B[0m\u001B[0;34m.\u001B[0m\u001B[0mgenfromtxt\u001B[0m\u001B[0;34m(\u001B[0m\u001B[0mfname\u001B[0m\u001B[0;34m=\u001B[0m\u001B[0mfile_location\u001B[0m\u001B[0;34m,\u001B[0m \u001B[0mskip_header\u001B[0m\u001B[0;34m=\u001B[0m\u001B[0;36m2\u001B[0m\u001B[0;34m,\u001B[0m \u001B[0mdtype\u001B[0m\u001B[0;34m=\u001B[0m\u001B[0;34m'unicode'\u001B[0m\u001B[0;34m)\u001B[0m\u001B[0;34m\u001B[0m\u001B[0;34m\u001B[0m\u001B[0m\n\u001B[0m\u001B[1;32m      7\u001B[0m \u001B[0msymbols\u001B[0m \u001B[0;34m=\u001B[0m \u001B[0mxyz_file\u001B[0m\u001B[0;34m[\u001B[0m\u001B[0;34m:\u001B[0m\u001B[0;34m,\u001B[0m \u001B[0;36m0\u001B[0m\u001B[0;34m]\u001B[0m\u001B[0;34m\u001B[0m\u001B[0;34m\u001B[0m\u001B[0m\n\u001B[1;32m      8\u001B[0m \u001B[0mcoordinates\u001B[0m \u001B[0;34m=\u001B[0m \u001B[0mxyz_file\u001B[0m\u001B[0;34m[\u001B[0m\u001B[0;34m:\u001B[0m\u001B[0;34m,\u001B[0m \u001B[0;36m1\u001B[0m\u001B[0;34m:\u001B[0m\u001B[0;34m]\u001B[0m\u001B[0;34m\u001B[0m\u001B[0;34m\u001B[0m\u001B[0m\n",
      "\u001B[0;32m/opt/anaconda3/envs/my-rdkit-env/lib/python3.7/site-packages/numpy/lib/npyio.py\u001B[0m in \u001B[0;36mgenfromtxt\u001B[0;34m(fname, dtype, comments, delimiter, skip_header, skip_footer, converters, missing_values, filling_values, usecols, names, excludelist, deletechars, replace_space, autostrip, case_sensitive, defaultfmt, unpack, usemask, loose, invalid_raise, max_rows, encoding, like)\u001B[0m\n\u001B[1;32m   1791\u001B[0m             \u001B[0mfname\u001B[0m \u001B[0;34m=\u001B[0m \u001B[0mos_fspath\u001B[0m\u001B[0;34m(\u001B[0m\u001B[0mfname\u001B[0m\u001B[0;34m)\u001B[0m\u001B[0;34m\u001B[0m\u001B[0;34m\u001B[0m\u001B[0m\n\u001B[1;32m   1792\u001B[0m         \u001B[0;32mif\u001B[0m \u001B[0misinstance\u001B[0m\u001B[0;34m(\u001B[0m\u001B[0mfname\u001B[0m\u001B[0;34m,\u001B[0m \u001B[0mstr\u001B[0m\u001B[0;34m)\u001B[0m\u001B[0;34m:\u001B[0m\u001B[0;34m\u001B[0m\u001B[0;34m\u001B[0m\u001B[0m\n\u001B[0;32m-> 1793\u001B[0;31m             \u001B[0mfid\u001B[0m \u001B[0;34m=\u001B[0m \u001B[0mnp\u001B[0m\u001B[0;34m.\u001B[0m\u001B[0mlib\u001B[0m\u001B[0;34m.\u001B[0m\u001B[0m_datasource\u001B[0m\u001B[0;34m.\u001B[0m\u001B[0mopen\u001B[0m\u001B[0;34m(\u001B[0m\u001B[0mfname\u001B[0m\u001B[0;34m,\u001B[0m \u001B[0;34m'rt'\u001B[0m\u001B[0;34m,\u001B[0m \u001B[0mencoding\u001B[0m\u001B[0;34m=\u001B[0m\u001B[0mencoding\u001B[0m\u001B[0;34m)\u001B[0m\u001B[0;34m\u001B[0m\u001B[0;34m\u001B[0m\u001B[0m\n\u001B[0m\u001B[1;32m   1794\u001B[0m             \u001B[0mfid_ctx\u001B[0m \u001B[0;34m=\u001B[0m \u001B[0mcontextlib\u001B[0m\u001B[0;34m.\u001B[0m\u001B[0mclosing\u001B[0m\u001B[0;34m(\u001B[0m\u001B[0mfid\u001B[0m\u001B[0;34m)\u001B[0m\u001B[0;34m\u001B[0m\u001B[0;34m\u001B[0m\u001B[0m\n\u001B[1;32m   1795\u001B[0m         \u001B[0;32melse\u001B[0m\u001B[0;34m:\u001B[0m\u001B[0;34m\u001B[0m\u001B[0;34m\u001B[0m\u001B[0m\n",
      "\u001B[0;32m/opt/anaconda3/envs/my-rdkit-env/lib/python3.7/site-packages/numpy/lib/_datasource.py\u001B[0m in \u001B[0;36mopen\u001B[0;34m(path, mode, destpath, encoding, newline)\u001B[0m\n\u001B[1;32m    191\u001B[0m \u001B[0;34m\u001B[0m\u001B[0m\n\u001B[1;32m    192\u001B[0m     \u001B[0mds\u001B[0m \u001B[0;34m=\u001B[0m \u001B[0mDataSource\u001B[0m\u001B[0;34m(\u001B[0m\u001B[0mdestpath\u001B[0m\u001B[0;34m)\u001B[0m\u001B[0;34m\u001B[0m\u001B[0;34m\u001B[0m\u001B[0m\n\u001B[0;32m--> 193\u001B[0;31m     \u001B[0;32mreturn\u001B[0m \u001B[0mds\u001B[0m\u001B[0;34m.\u001B[0m\u001B[0mopen\u001B[0m\u001B[0;34m(\u001B[0m\u001B[0mpath\u001B[0m\u001B[0;34m,\u001B[0m \u001B[0mmode\u001B[0m\u001B[0;34m,\u001B[0m \u001B[0mencoding\u001B[0m\u001B[0;34m=\u001B[0m\u001B[0mencoding\u001B[0m\u001B[0;34m,\u001B[0m \u001B[0mnewline\u001B[0m\u001B[0;34m=\u001B[0m\u001B[0mnewline\u001B[0m\u001B[0;34m)\u001B[0m\u001B[0;34m\u001B[0m\u001B[0;34m\u001B[0m\u001B[0m\n\u001B[0m\u001B[1;32m    194\u001B[0m \u001B[0;34m\u001B[0m\u001B[0m\n\u001B[1;32m    195\u001B[0m \u001B[0;34m\u001B[0m\u001B[0m\n",
      "\u001B[0;32m/opt/anaconda3/envs/my-rdkit-env/lib/python3.7/site-packages/numpy/lib/_datasource.py\u001B[0m in \u001B[0;36mopen\u001B[0;34m(self, path, mode, encoding, newline)\u001B[0m\n\u001B[1;32m    531\u001B[0m                                       encoding=encoding, newline=newline)\n\u001B[1;32m    532\u001B[0m         \u001B[0;32melse\u001B[0m\u001B[0;34m:\u001B[0m\u001B[0;34m\u001B[0m\u001B[0;34m\u001B[0m\u001B[0m\n\u001B[0;32m--> 533\u001B[0;31m             \u001B[0;32mraise\u001B[0m \u001B[0mIOError\u001B[0m\u001B[0;34m(\u001B[0m\u001B[0;34m\"%s not found.\"\u001B[0m \u001B[0;34m%\u001B[0m \u001B[0mpath\u001B[0m\u001B[0;34m)\u001B[0m\u001B[0;34m\u001B[0m\u001B[0;34m\u001B[0m\u001B[0m\n\u001B[0m\u001B[1;32m    534\u001B[0m \u001B[0;34m\u001B[0m\u001B[0m\n\u001B[1;32m    535\u001B[0m \u001B[0;34m\u001B[0m\u001B[0m\n",
      "\u001B[0;31mOSError\u001B[0m: data/water.xyz not found."
     ]
    }
   ],
   "source": [
    "# Starting code to functionalize using ChatGPT\n",
    "import numpy\n",
    "import os\n",
    "\n",
    "file_location = os.path.join('data', 'water.xyz')\n",
    "xyz_file = numpy.genfromtxt(fname=file_location, skip_header=2, dtype='unicode')\n",
    "symbols = xyz_file[:, 0]\n",
    "coordinates = xyz_file[:, 1:]\n",
    "coordinates = coordinates.astype(numpy.float)\n",
    "num_atoms = len(symbols)\n",
    "for num1 in range(0, num_atoms):\n",
    "    for num2 in range(0, num_atoms):\n",
    "        if num1 < num2:\n",
    "            x_distance = coordinates[num1, 0] - coordinates[num2, 0]\n",
    "            y_distance = coordinates[num1, 1] - coordinates[num2, 1]\n",
    "            z_distance = coordinates[num1, 2] - coordinates[num2, 2]\n",
    "            bond_length_12 = numpy.sqrt(x_distance ** 2 + y_distance ** 2 + z_distance ** 2)\n",
    "            if bond_length_12 > 0 and bond_length_12 <= 1.5:\n",
    "                print(F'{symbols[num1]} to {symbols[num2]} : {bond_length_12:.3f}')"
   ],
   "metadata": {
    "collapsed": false,
    "ExecuteTime": {
     "end_time": "2024-05-21T15:15:21.492275Z",
     "start_time": "2024-05-21T15:15:21.375275Z"
    }
   },
   "execution_count": 6
  },
  {
   "cell_type": "markdown",
   "metadata": {},
   "source": [
    "## Safety, Ethics, and Avoiding Hallucinations\n",
    "Learn how to identify and address inaccuracies in AI-generated material, understand copyright and license issues, and recognize security vulnerabilities.\n",
    "\n",
    "## Avoiding Hallucinations\n",
    "Try asking ChatGPT 3.5 for the molecular weight of ibuprofen.\n",
    "Try asking ChatGPT 3.5 for the molecular weight of CC(Cc1ccc(cc1)C(C(=O)O)C)C (which is ibuprofen)\n",
    "\n",
    "The first prompt should succeed since this information is in the training data. The second prompt failed at the time of writing. Why? What did it do wrong?"
   ]
  },
  {
   "cell_type": "markdown",
   "metadata": {},
   "source": [
    "We will learn about tools to perform such calculations accurately later. For now assume there is no such tool and \n",
    "see if Chat GPT 3.5 can create one for you. Try the prompt: Create a function that takes an input molecular formula and\n",
    "calculates a molecular weight for the molecule. Paste that function below and run the cell. Then test the function with \n",
    "the molecular formula for ibuprofen using the following three lines:\n",
    "\n"
   ]
  },
  {
   "cell_type": "code",
   "execution_count": null,
   "metadata": {
    "ExecuteTime": {
     "start_time": "2024-05-21T14:10:43.111931Z"
    }
   },
   "outputs": [],
   "source": [
    "# Insert your function below\n"
   ]
  },
  {
   "cell_type": "markdown",
   "metadata": {},
   "source": [
    "An example of a function provided by GPT 3.5 is provided below. It may not match the one you obtain. Compare these to what you wrote yesterday"
   ]
  },
  {
   "cell_type": "code",
   "execution_count": null,
   "metadata": {
    "ExecuteTime": {
     "start_time": "2024-05-21T14:10:43.115514Z"
    }
   },
   "outputs": [],
   "source": [
    "def calculate_molecular_weight(formula):\n",
    "    # Define atomic weights dictionary\n",
    "    atomic_weights = {'H': 1.008, 'C': 12.01, 'N': 14.01, 'O': 16.00, 'P': 30.97, 'S': 32.07}\n",
    "\n",
    "    # Initialize molecular weight\n",
    "    molecular_weight = 0\n",
    "\n",
    "    # Iterate through the formula\n",
    "    i = 0\n",
    "    while i < len(formula):\n",
    "        # Extract element symbol\n",
    "        element = formula[i]\n",
    "\n",
    "        # Check if the element has a lowercase letter (indicating additional atoms)\n",
    "        if i + 1 < len(formula) and formula[i + 1].islower():\n",
    "            # If yes, concatenate the lowercase letter(s) to the element symbol\n",
    "            element += formula[i + 1]\n",
    "            i += 1\n",
    "\n",
    "        # Move to the next character in the formula\n",
    "        i += 1\n",
    "\n",
    "        # Extract the number of atoms for the element (default to 1 if not specified)\n",
    "        num_atoms = 1\n",
    "        if i < len(formula) and formula[i].isdigit():\n",
    "            # Extract the number of atoms for the element\n",
    "            num_atoms_str = ''\n",
    "            while i < len(formula) and formula[i].isdigit():\n",
    "                num_atoms_str += formula[i]\n",
    "                i += 1\n",
    "            num_atoms = int(num_atoms_str)\n",
    "\n",
    "        # Add the contribution of the current element to the molecular weight\n",
    "        molecular_weight += atomic_weights[element] * num_atoms\n",
    "\n",
    "    return molecular_weight\n"
   ]
  },
  {
   "cell_type": "markdown",
   "metadata": {},
   "source": [
    "## Debugging Your Code with GPTs\n",
    "Use AI to debug your code, understand error messages, and refine your solutions."
   ]
  },
  {
   "cell_type": "code",
   "execution_count": null,
   "metadata": {
    "ExecuteTime": {
     "start_time": "2024-05-21T14:10:43.119262Z"
    }
   },
   "outputs": [],
   "source": [
    "buggy_code = 'for i in range(5 print(i)'\n",
    "fixed_code = 'for i in range(5): print(i)'\n",
    "print('Buggy code:', buggy_code)\n",
    "print('Fixed code:', fixed_code)"
   ]
  },
  {
   "cell_type": "markdown",
   "metadata": {},
   "source": [
    "## Chemistry Python Package Use through GPTs\n",
    "Learn about tools like RDKit that GPTs are conversant in and how to expand a GPT's knowledge to meet your needs in molecular sciences."
   ]
  },
  {
   "cell_type": "code",
   "execution_count": null,
   "metadata": {
    "ExecuteTime": {
     "start_time": "2024-05-21T14:10:43.122098Z"
    }
   },
   "outputs": [],
   "source": [
    "rdkit_prompt = 'Show how to calculate the molecular weight of benzene using RDKit'\n",
    "rdkit_response = 'from rdkit import Chem\\nfrom rdkit.Chem import Descriptors\\nbenzene = Chem.MolFromSmiles(\"C6H6\")\\nmol_weight = Descriptors.MolWt(benzene)\\nprint(\"Molecular weight of benzene:\", mol_weight, \"g/mol\")'\n",
    "print('RDKit prompt:', rdkit_prompt)\n",
    "print('RDKit response:', rdkit_response)"
   ]
  },
  {
   "cell_type": "code",
   "execution_count": null,
   "metadata": {
    "ExecuteTime": {
     "start_time": "2024-05-21T14:10:43.124519Z"
    }
   },
   "outputs": [],
   "source": [
    "import pandas as pd\n",
    "\n",
    "# Assuming your data is stored in a CSV file called 'data.csv'\n",
    "# Replace 'data.csv' with the path to your actual data file\n",
    "data = pd.read_csv('distance_data_headers.csv')\n",
    "\n",
    "# Calculate the mean of just the 'THR4_ATP' column using every row\n",
    "mean_thr4_atp = data['THR4_ATP'].mean()\n",
    "\n",
    "print(\"Mean of THR4_ATP column:\", mean_thr4_atp)\n"
   ]
  },
  {
   "cell_type": "markdown",
   "metadata": {},
   "source": [
    "## Prompt Engineering\n",
    "## Goal 1: Specificity\n",
    "Be clear and specific with your instructions: When asking for a chemical reaction mechanism, specify the type of reaction (e.g., nucleophilic substitution) and any particular conditions (e.g., solvent, temperature) that should be considered.\n",
    "Clear tasks or questions will usually get better responses: For example, instead of asking \"How does this compound react?\", ask \"What are the major products when compound X reacts with Y under acidic conditions?\"\n",
    "Longer, more detailed prompts often produce better results: Provide complete information about the reactants, possible catalysts, and the desired type of reaction outcome to help the model generate a more accurate response.\n",
    "Delimiters can help the model separate conceptual sections of your prompt: For instance, you can differentiate between the reaction setup and the question by using bullet points or separating them with line breaks.\n",
    "Context\n",
    "Give ample context on what you’re trying to achieve and how: If you're looking for a synthesis pathway, describe the starting materials and the target molecule, including functional groups and stereochemistry.\n",
    "Role prompting can help you give initial context on how the model should respond to future prompts: You could set up a scenario where the model acts as a research chemist who is designing a novel synthetic route.\n",
    "Few-shot prompting means that you’re adding examples of your expected output to your prompt: Provide examples of similar chemical reactions or pathways to guide the model on the type of response you expect.\n",
    "## Goal 2: Reasoning\n",
    "Instruct the model to build complex answers incrementally instead of pushing for immediate answers: Request a step-by-step explanation of a reaction mechanism, detailing each intermediate and transition state.\n",
    "Spelling out the necessary steps for completing the task helps the model correctly do tasks that would otherwise produce incorrect results: For computational chemistry tasks, describe each computational method or software to be used, along with the desired outputs (e.g., energy minimization, charge distribution).\n",
    "Even without spelling out the steps yourself, you can often improve the results by adding a sentence that asks the model to tackle the challenge step by step: For example, \"Please describe each step involved in the electrophilic addition of HBr to 1-butene.\"\n",
    "When asking the model to assess whether a provided input is correct, ask the model to build its own solution first before deciding: If questioning the plausibility of a synthetic route, provide the route and ask the model to suggest possible improvements or identify potential issues in the proposed steps.\n",
    "These adaptations help ensure that your prompts are tailored to generate more precise and relevant answers in a chemistry context, improving the utility of responses for educational, research, or practical applications."
   ]
  },
  {
   "cell_type": "markdown",
   "metadata": {},
   "source": []
  },
  {
   "cell_type": "markdown",
   "source": [
    "## Optional Material:\n",
    "## The Importance of Testing\n",
    "\n",
    "\n",
    "Beginning programmers often write a lot of code before testing it. Testing to makes sure your code is working correctly is an essential part of the programming process. You may have noticed that in the previous lessons, every time a new section of code was created, it was immediately tested to see if it worked correctly, sometimes by doing something as simple as printing the variable that was just read in or calculated to ensure that the code worked correctly.\n",
    "\n",
    "As you write more complicated codes, testing becomes even more important. You will need to make sure that each part of the code works correctly and that it works with the rest of the code. Often, situations arise where new code is written and it causes an old part of the code, which was working before, to stop working. Testing each part of your code individually is called unit testing and testing how the parts work together is called integration testing. The best practice is to have unit testing that covers most of your code.\n",
    "\n",
    "One way to include unit testing is to write tests that test a single function of your code. In the last lesson, we wrote three functions in our geometry analysis project, one that opened and processed our xyz file, one that calculated a bond length and one that checks to see if a particular distance corresponded to a bond. We can now write tests for each of those functions."
   ],
   "metadata": {
    "collapsed": false
   }
  },
  {
   "cell_type": "code",
   "outputs": [
    {
     "name": "stdout",
     "output_type": "stream",
     "text": [
      "======================================= test session starts ========================================\n",
      "platform darwin -- Python 3.7.9, pytest-6.2.2, py-1.10.0, pluggy-0.13.1\n",
      "rootdir: /Users/scottreed/PycharmProjects/AI_coding_tutorial\n",
      "collected 1 item\n",
      "\n",
      "t_08ba32874c99408583bc77b99e881f6b.py .                                                      [100%]\n",
      "\n",
      "======================================== 1 passed in 0.03s =========================================\n"
     ]
    },
    {
     "data": {
      "text/plain": "<ExitCode.OK: 0>"
     },
     "execution_count": 7,
     "metadata": {},
     "output_type": "execute_result"
    }
   ],
   "source": [
    "# ChatGPT 3.5 script given the calculate_distance function. Requested ipytest for notebook compatibility\n",
    "import numpy as np\n",
    "import ipytest\n",
    "\n",
    "# Enable the ipytest magics\n",
    "ipytest.config.rewrite_asserts = True\n",
    "\n",
    "# Load the ipytest extension\n",
    "ipytest.config.auto_rewrite = True\n",
    "\n",
    "# Import the function you want to test\n",
    "# from your_module import calculate_distance\n",
    "def calculate_distance(atom1_coord, atom2_coord):\n",
    "    x_distance = atom1_coord[0] - atom2_coord[0]\n",
    "    y_distance = atom1_coord[1] - atom2_coord[1]\n",
    "    z_distance = atom1_coord[2] - atom2_coord[2]\n",
    "    bond_length_12 = numpy.sqrt(x_distance ** 2 + y_distance ** 2 + z_distance ** 2)\n",
    "    return bond_length_12\n",
    "\n",
    "# Define your test cases\n",
    "def test_calculate_distance():\n",
    "    # Test case 1\n",
    "    atom1_coord = [0, 0, 0]\n",
    "    atom2_coord = [0, 0, 1]\n",
    "    assert calculate_distance(atom1_coord, atom2_coord) == 1.0\n",
    "    \n",
    "    # Test case 2\n",
    "    atom1_coord = [1, 2, 3]\n",
    "    atom2_coord = [4, 5, 6]\n",
    "    assert calculate_distance(atom1_coord, atom2_coord) == np.sqrt(27)\n",
    "\n",
    "    # Test case 3\n",
    "    atom1_coord = [0, 0, 0]\n",
    "    atom2_coord = [3, 4, 0]\n",
    "    assert calculate_distance(atom1_coord, atom2_coord) == 5.0\n",
    "\n",
    "# Run the tests using ipytest\n",
    "ipytest.run()\n"
   ],
   "metadata": {
    "collapsed": false,
    "ExecuteTime": {
     "end_time": "2024-05-21T15:16:12.083094Z",
     "start_time": "2024-05-21T15:16:11.043976Z"
    }
   },
   "execution_count": 7
  }
 ],
 "metadata": {
  "kernelspec": {
   "display_name": "my-rdkit-env",
   "language": "python",
   "name": "my-rdkit-env"
  },
  "language_info": {
   "codemirror_mode": {
    "name": "ipython",
    "version": 3
   },
   "file_extension": ".py",
   "mimetype": "text/x-python",
   "name": "python",
   "nbconvert_exporter": "python",
   "pygments_lexer": "ipython3",
   "version": "3.7.9"
  }
 },
 "nbformat": 4,
 "nbformat_minor": 4
}
