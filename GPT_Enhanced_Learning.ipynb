{
  "cells": [
    {
      "cell_type": "markdown",
      "metadata": {},
      "source": [
        "# Using GPTs to Enhance Learning Python for the Molecular Sciences\n",
        "Welcome to this tutorial on how to utilize Generative Pre-trained Transformers (GPTs) to enhance your programming learning experience. \n",
        "This notebook will guide you through various strategies and methods for effectively using GPTs as a coding mentor, \n",
        "understanding safety and ethical concerns, debugging your code, and learning about specialized tools in chemistry coding with Python.\n",
        "Keep in mind, training for GPTs are  updated over time and examples in this notebook may give different results over time. \n",
        "Also, prior questions asked within the same session can influence the outcome of a later question."
      ]
    },
    {
      "cell_type": "markdown",
      "metadata": {},
      "source": [
        "## Limitations of GPTs"
      ]
    },
    {
      "cell_type": "markdown",
      "metadata": {},
      "source": [
        "GPT 3.5 is freely available (https://chatgpt.com/) and powerful enough to perform the functions in this tutorial. We will learn about other options but for many applications, GPT 3.5 will provide what we need. Other free options can be tested at https://labs.perplexity.ai. \n",
        "It is important to know the limitations of GPT 3.5. It returns a maximum of 4,096 output tokens and allows an input of 16,385 tokens (Tokens are approximately the size of words). Its training data is from up to Sep 2021. "
      ]
    },
    {
      "cell_type": "markdown",
      "metadata": {},
      "source": [
        "Try asking GPT 3.5: <span style=\"color:green\">Has lecanemab been approved for any treatments by the FDA?</span>\n"
      ]
    },
    {
      "cell_type": "code",
      "execution_count": 25,
      "metadata": {
        "vscode": {
          "languageId": "html"
        }
      },
      "outputs": [
        {
          "ename": "SyntaxError",
          "evalue": "invalid syntax (2930063211.py, line 1)",
          "output_type": "error",
          "traceback": [
            "\u001b[0;36m  File \u001b[0;32m\"/var/folders/bk/s9lxqhjj0_g7f585_pvyfk2w0000gn/T/ipykernel_25804/2930063211.py\"\u001b[0;36m, line \u001b[0;32m1\u001b[0m\n\u001b[0;31m    <p>This is a <span style=\"color: blue;\">blue</span> sentence.</p>\u001b[0m\n\u001b[0m    ^\u001b[0m\n\u001b[0;31mSyntaxError\u001b[0m\u001b[0;31m:\u001b[0m invalid syntax\n"
          ]
        }
      ],
      "source": [
        "\n",
        "<p>This is a <span style=\"color: blue;\">blue</span> sentence.</p>"
      ]
    },
    {
      "cell_type": "markdown",
      "metadata": {},
      "source": [
        "\n",
        " and \"What does lecanemab cost?\"\n",
        "\n",
        "GPT 3.5 should be unaware of the recent approval of lecanemab for Alzheimer's. However, the token window is large enough you could past \n",
        "the wikipedia entry into your prompt. \n",
        "Try doing that along with the prompt <span style=\"color:green\">Considering the following info what does lacenemab costs?</span>\n"
      ]
    },
    {
      "cell_type": "markdown",
      "metadata": {},
      "source": [
        "## Few shot prompting\n",
        "Few-shot prompting can be used as a technique to enable in-context learning\n",
        "\n",
        "Few-shot prompting is a technique where you provide a model with a few examples of the type of information or answers you are seeking. \n",
        "This sets the context and helps the model understand the format and depth of response required. \n",
        "Here’s how you could structure a few-shot prompt for a chemistry problem."
      ]
    },
    {
      "cell_type": "markdown",
      "metadata": {},
      "source": [
        "## Strategies and Methods for Using GPTs as a Coding Mentor\n",
        "In this module, you'll learn how to use GPTs for generating, testing, and troubleshooting Python code. We'll also explore methods for integrating AI tools into your coding environment.\n",
        "One option if to use GPT to create stand along scripts that perform a function without any editing. \n",
        "For example try asking GPT to create a program that calculates the distance between each atom of water in the following coordinates:\n",
        "Water xyz file\n",
        "|atom|x|y|z\n",
        "|----|-|-|-\n",
        "|O        |0.000000     |-0.007156      |0.965491\n",
        "|H1      |-0.000000      |0.001486     |-0.003471\n",
        "|H2       |0.000000      |0.931026      |1.207929"
      ]
    },
    {
      "cell_type": "code",
      "execution_count": null,
      "metadata": {},
      "outputs": [],
      "source": [
        "# Here is an example of a GPT 4 generated answer. How does GPT 3.5 compare?\n",
        "import math\n",
        "\n",
        "def calculate_distance(coord1, coord2):\n",
        "    \"\"\"Calculate the Euclidean distance between two 3D points.\"\"\"\n",
        "    return math.sqrt((coord2[0] - coord1[0]) ** 2 + (coord2[1] - coord1[1]) ** 2 + (coord2[2] - coord1[2]) ** 2)\n",
        "\n",
        "def main():\n",
        "    # Coordinates of atoms in a water molecule: O, H1, H2\n",
        "    atoms = {\n",
        "        'O': (0.000000, -0.007156, 0.965491),\n",
        "        'H1': (-0.000000, 0.001486, -0.003471),\n",
        "        'H2': (0.000000, 0.931026, 1.207929)\n",
        "    }\n",
        "\n",
        "    # Calculate distances between each pair of atoms\n",
        "    atom_keys = list(atoms.keys())\n",
        "    for i in range(len(atom_keys)):\n",
        "        for j in range(i + 1, len(atom_keys)):\n",
        "            atom1, atom2 = atom_keys[i], atom_keys[j]\n",
        "            distance = calculate_distance(atoms[atom1], atoms[atom2])\n",
        "            print(f\"Distance between {atom1} and {atom2}: {distance:.6f}\")\n",
        "\n",
        "if __name__ == \"__main__\":\n",
        "    main()\n",
        "\n",
        "# Note: These last two lines are the common method to make a python script execute the main function"
      ]
    },
    {
      "cell_type": "markdown",
      "metadata": {},
      "source": [
        "## Safety, Ethics, and Avoiding Hallucinations\n",
        "Learn how to identify and address inaccuracies in AI-generated material, understand copyright and license issues, and recognize security vulnerabilities.\n",
        "\n",
        "## Avoiding Hallucinations\n",
        "Try asking ChatGPT 3.5 for the molecular weight of ibuprofen.\n",
        "Try asking ChatGPT 3.5 for the molecular weight of CC(Cc1ccc(cc1)C(C(=O)O)C)C (which is ibuprofen)\n",
        "\n",
        "The first prompt should succeed since this information is in the training data. The second prompt failed at the time of writing. Why? What did it do wrong?"
      ]
    },
    {
      "cell_type": "markdown",
      "metadata": {},
      "source": [
        "We will learn about tools to perform such calculations accurately later. For now assume there is no such tool and \n",
        "see if Chat GPT 3.5 can create one for you. Try the prompt: Create a function that takes an input molecular formula and\n",
        "calculates a molecular weight for the molecule. Paste that function below and run the cell. Then test the function with \n",
        "the molecular formula for ibuprofen using the following three lines:\n",
        "### formula = \"C13H18O2\" # this sets variable equal to a text string that is the molecular formula for ibuprofen\n",
        "### molecular_weight = calculate_molecular_weight(formula) # this runs your variable through your function (if it is named the same as mine)\n",
        "### print(\"Molecular weight of\", formula, \"is:\", molecular_weight, \"g/mol\") #This printe the results"
      ]
    },
    {
      "cell_type": "code",
      "execution_count": null,
      "metadata": {},
      "outputs": [],
      "source": [
        "# Insert your function below\n"
      ]
    },
    {
      "cell_type": "markdown",
      "metadata": {},
      "source": [
        "An example of a function provided by GPT 3.5 is provided below. It may not match the one you obtain."
      ]
    },
    {
      "cell_type": "code",
      "execution_count": null,
      "metadata": {},
      "outputs": [],
      "source": [
        "def calculate_molecular_weight(formula):\n",
        "    # Define atomic weights dictionary\n",
        "    atomic_weights = {'H': 1.008, 'C': 12.01, 'N': 14.01, 'O': 16.00, 'P': 30.97, 'S': 32.07}\n",
        "\n",
        "    # Initialize molecular weight\n",
        "    molecular_weight = 0\n",
        "\n",
        "    # Iterate through the formula\n",
        "    i = 0\n",
        "    while i < len(formula):\n",
        "        # Extract element symbol\n",
        "        element = formula[i]\n",
        "\n",
        "        # Check if the element has a lowercase letter (indicating additional atoms)\n",
        "        if i + 1 < len(formula) and formula[i + 1].islower():\n",
        "            # If yes, concatenate the lowercase letter(s) to the element symbol\n",
        "            element += formula[i + 1]\n",
        "            i += 1\n",
        "\n",
        "        # Move to the next character in the formula\n",
        "        i += 1\n",
        "\n",
        "        # Extract the number of atoms for the element (default to 1 if not specified)\n",
        "        num_atoms = 1\n",
        "        if i < len(formula) and formula[i].isdigit():\n",
        "            # Extract the number of atoms for the element\n",
        "            num_atoms_str = ''\n",
        "            while i < len(formula) and formula[i].isdigit():\n",
        "                num_atoms_str += formula[i]\n",
        "                i += 1\n",
        "            num_atoms = int(num_atoms_str)\n",
        "\n",
        "        # Add the contribution of the current element to the molecular weight\n",
        "        molecular_weight += atomic_weights[element] * num_atoms\n",
        "\n",
        "    return molecular_weight\n",
        "\n",
        "\n"
      ]
    },
    {
      "cell_type": "markdown",
      "metadata": {},
      "source": [
        "## Debugging Your Code with GPTs\n",
        "Use AI to debug your code, understand error messages, and refine your solutions."
      ]
    },
    {
      "cell_type": "code",
      "execution_count": 6,
      "metadata": {},
      "outputs": [
        {
          "name": "stdout",
          "output_type": "stream",
          "text": [
            "Buggy code: for i in range(5 print(i)\n",
            "Fixed code: for i in range(5): print(i)\n"
          ]
        }
      ],
      "source": [
        "buggy_code = 'for i in range(5 print(i)'\n",
        "fixed_code = 'for i in range(5): print(i)'\n",
        "print('Buggy code:', buggy_code)\n",
        "print('Fixed code:', fixed_code)"
      ]
    },
    {
      "cell_type": "markdown",
      "metadata": {},
      "source": [
        "## Chemistry Python Package Use through GPTs\n",
        "Learn about tools like RDKit that GPTs are conversant in and how to expand a GPT's knowledge to meet your needs in molecular sciences."
      ]
    },
    {
      "cell_type": "code",
      "execution_count": 4,
      "metadata": {},
      "outputs": [
        {
          "name": "stdout",
          "output_type": "stream",
          "text": [
            "RDKit prompt: Show how to calculate the molecular weight of benzene using RDKit\n",
            "RDKit response: from rdkit import Chem\n",
            "from rdkit.Chem import Descriptors\n",
            "benzene = Chem.MolFromSmiles(\"C6H6\")\n",
            "mol_weight = Descriptors.MolWt(benzene)\n",
            "print(\"Molecular weight of benzene:\", mol_weight, \"g/mol\")\n"
          ]
        }
      ],
      "source": [
        "rdkit_prompt = 'Show how to calculate the molecular weight of benzene using RDKit'\n",
        "rdkit_response = 'from rdkit import Chem\\nfrom rdkit.Chem import Descriptors\\nbenzene = Chem.MolFromSmiles(\"C6H6\")\\nmol_weight = Descriptors.MolWt(benzene)\\nprint(\"Molecular weight of benzene:\", mol_weight, \"g/mol\")'\n",
        "print('RDKit prompt:', rdkit_prompt)\n",
        "print('RDKit response:', rdkit_response)"
      ]
    },
    {
      "cell_type": "code",
      "execution_count": 7,
      "metadata": {},
      "outputs": [
        {
          "ename": "FileNotFoundError",
          "evalue": "[Errno 2] No such file or directory: 'distance_data_headers.csv'",
          "output_type": "error",
          "traceback": [
            "\u001b[0;31m---------------------------------------------------------------------------\u001b[0m",
            "\u001b[0;31mFileNotFoundError\u001b[0m                         Traceback (most recent call last)",
            "\u001b[0;32m/var/folders/bk/s9lxqhjj0_g7f585_pvyfk2w0000gn/T/ipykernel_25804/597856139.py\u001b[0m in \u001b[0;36m<module>\u001b[0;34m\u001b[0m\n\u001b[1;32m      3\u001b[0m \u001b[0;31m# Assuming your data is stored in a CSV file called 'data.csv'\u001b[0m\u001b[0;34m\u001b[0m\u001b[0;34m\u001b[0m\u001b[0;34m\u001b[0m\u001b[0m\n\u001b[1;32m      4\u001b[0m \u001b[0;31m# Replace 'data.csv' with the path to your actual data file\u001b[0m\u001b[0;34m\u001b[0m\u001b[0;34m\u001b[0m\u001b[0;34m\u001b[0m\u001b[0m\n\u001b[0;32m----> 5\u001b[0;31m \u001b[0mdata\u001b[0m \u001b[0;34m=\u001b[0m \u001b[0mpd\u001b[0m\u001b[0;34m.\u001b[0m\u001b[0mread_csv\u001b[0m\u001b[0;34m(\u001b[0m\u001b[0;34m'distance_data_headers.csv'\u001b[0m\u001b[0;34m)\u001b[0m\u001b[0;34m\u001b[0m\u001b[0;34m\u001b[0m\u001b[0m\n\u001b[0m\u001b[1;32m      6\u001b[0m \u001b[0;34m\u001b[0m\u001b[0m\n\u001b[1;32m      7\u001b[0m \u001b[0;31m# Calculate the mean of just the 'THR4_ATP' column using every row\u001b[0m\u001b[0;34m\u001b[0m\u001b[0;34m\u001b[0m\u001b[0;34m\u001b[0m\u001b[0m\n",
            "\u001b[0;32m/opt/anaconda3/envs/my-rdkit-env/lib/python3.7/site-packages/pandas/io/parsers.py\u001b[0m in \u001b[0;36mread_csv\u001b[0;34m(filepath_or_buffer, sep, delimiter, header, names, index_col, usecols, squeeze, prefix, mangle_dupe_cols, dtype, engine, converters, true_values, false_values, skipinitialspace, skiprows, skipfooter, nrows, na_values, keep_default_na, na_filter, verbose, skip_blank_lines, parse_dates, infer_datetime_format, keep_date_col, date_parser, dayfirst, cache_dates, iterator, chunksize, compression, thousands, decimal, lineterminator, quotechar, quoting, doublequote, escapechar, comment, encoding, dialect, error_bad_lines, warn_bad_lines, delim_whitespace, low_memory, memory_map, float_precision)\u001b[0m\n\u001b[1;32m    684\u001b[0m     )\n\u001b[1;32m    685\u001b[0m \u001b[0;34m\u001b[0m\u001b[0m\n\u001b[0;32m--> 686\u001b[0;31m     \u001b[0;32mreturn\u001b[0m \u001b[0m_read\u001b[0m\u001b[0;34m(\u001b[0m\u001b[0mfilepath_or_buffer\u001b[0m\u001b[0;34m,\u001b[0m \u001b[0mkwds\u001b[0m\u001b[0;34m)\u001b[0m\u001b[0;34m\u001b[0m\u001b[0;34m\u001b[0m\u001b[0m\n\u001b[0m\u001b[1;32m    687\u001b[0m \u001b[0;34m\u001b[0m\u001b[0m\n\u001b[1;32m    688\u001b[0m \u001b[0;34m\u001b[0m\u001b[0m\n",
            "\u001b[0;32m/opt/anaconda3/envs/my-rdkit-env/lib/python3.7/site-packages/pandas/io/parsers.py\u001b[0m in \u001b[0;36m_read\u001b[0;34m(filepath_or_buffer, kwds)\u001b[0m\n\u001b[1;32m    450\u001b[0m \u001b[0;34m\u001b[0m\u001b[0m\n\u001b[1;32m    451\u001b[0m     \u001b[0;31m# Create the parser.\u001b[0m\u001b[0;34m\u001b[0m\u001b[0;34m\u001b[0m\u001b[0;34m\u001b[0m\u001b[0m\n\u001b[0;32m--> 452\u001b[0;31m     \u001b[0mparser\u001b[0m \u001b[0;34m=\u001b[0m \u001b[0mTextFileReader\u001b[0m\u001b[0;34m(\u001b[0m\u001b[0mfp_or_buf\u001b[0m\u001b[0;34m,\u001b[0m \u001b[0;34m**\u001b[0m\u001b[0mkwds\u001b[0m\u001b[0;34m)\u001b[0m\u001b[0;34m\u001b[0m\u001b[0;34m\u001b[0m\u001b[0m\n\u001b[0m\u001b[1;32m    453\u001b[0m \u001b[0;34m\u001b[0m\u001b[0m\n\u001b[1;32m    454\u001b[0m     \u001b[0;32mif\u001b[0m \u001b[0mchunksize\u001b[0m \u001b[0;32mor\u001b[0m \u001b[0miterator\u001b[0m\u001b[0;34m:\u001b[0m\u001b[0;34m\u001b[0m\u001b[0;34m\u001b[0m\u001b[0m\n",
            "\u001b[0;32m/opt/anaconda3/envs/my-rdkit-env/lib/python3.7/site-packages/pandas/io/parsers.py\u001b[0m in \u001b[0;36m__init__\u001b[0;34m(self, f, engine, **kwds)\u001b[0m\n\u001b[1;32m    944\u001b[0m             \u001b[0mself\u001b[0m\u001b[0;34m.\u001b[0m\u001b[0moptions\u001b[0m\u001b[0;34m[\u001b[0m\u001b[0;34m\"has_index_names\"\u001b[0m\u001b[0;34m]\u001b[0m \u001b[0;34m=\u001b[0m \u001b[0mkwds\u001b[0m\u001b[0;34m[\u001b[0m\u001b[0;34m\"has_index_names\"\u001b[0m\u001b[0;34m]\u001b[0m\u001b[0;34m\u001b[0m\u001b[0;34m\u001b[0m\u001b[0m\n\u001b[1;32m    945\u001b[0m \u001b[0;34m\u001b[0m\u001b[0m\n\u001b[0;32m--> 946\u001b[0;31m         \u001b[0mself\u001b[0m\u001b[0;34m.\u001b[0m\u001b[0m_make_engine\u001b[0m\u001b[0;34m(\u001b[0m\u001b[0mself\u001b[0m\u001b[0;34m.\u001b[0m\u001b[0mengine\u001b[0m\u001b[0;34m)\u001b[0m\u001b[0;34m\u001b[0m\u001b[0;34m\u001b[0m\u001b[0m\n\u001b[0m\u001b[1;32m    947\u001b[0m \u001b[0;34m\u001b[0m\u001b[0m\n\u001b[1;32m    948\u001b[0m     \u001b[0;32mdef\u001b[0m \u001b[0mclose\u001b[0m\u001b[0;34m(\u001b[0m\u001b[0mself\u001b[0m\u001b[0;34m)\u001b[0m\u001b[0;34m:\u001b[0m\u001b[0;34m\u001b[0m\u001b[0;34m\u001b[0m\u001b[0m\n",
            "\u001b[0;32m/opt/anaconda3/envs/my-rdkit-env/lib/python3.7/site-packages/pandas/io/parsers.py\u001b[0m in \u001b[0;36m_make_engine\u001b[0;34m(self, engine)\u001b[0m\n\u001b[1;32m   1176\u001b[0m     \u001b[0;32mdef\u001b[0m \u001b[0m_make_engine\u001b[0m\u001b[0;34m(\u001b[0m\u001b[0mself\u001b[0m\u001b[0;34m,\u001b[0m \u001b[0mengine\u001b[0m\u001b[0;34m=\u001b[0m\u001b[0;34m\"c\"\u001b[0m\u001b[0;34m)\u001b[0m\u001b[0;34m:\u001b[0m\u001b[0;34m\u001b[0m\u001b[0;34m\u001b[0m\u001b[0m\n\u001b[1;32m   1177\u001b[0m         \u001b[0;32mif\u001b[0m \u001b[0mengine\u001b[0m \u001b[0;34m==\u001b[0m \u001b[0;34m\"c\"\u001b[0m\u001b[0;34m:\u001b[0m\u001b[0;34m\u001b[0m\u001b[0;34m\u001b[0m\u001b[0m\n\u001b[0;32m-> 1178\u001b[0;31m             \u001b[0mself\u001b[0m\u001b[0;34m.\u001b[0m\u001b[0m_engine\u001b[0m \u001b[0;34m=\u001b[0m \u001b[0mCParserWrapper\u001b[0m\u001b[0;34m(\u001b[0m\u001b[0mself\u001b[0m\u001b[0;34m.\u001b[0m\u001b[0mf\u001b[0m\u001b[0;34m,\u001b[0m \u001b[0;34m**\u001b[0m\u001b[0mself\u001b[0m\u001b[0;34m.\u001b[0m\u001b[0moptions\u001b[0m\u001b[0;34m)\u001b[0m\u001b[0;34m\u001b[0m\u001b[0;34m\u001b[0m\u001b[0m\n\u001b[0m\u001b[1;32m   1179\u001b[0m         \u001b[0;32melse\u001b[0m\u001b[0;34m:\u001b[0m\u001b[0;34m\u001b[0m\u001b[0;34m\u001b[0m\u001b[0m\n\u001b[1;32m   1180\u001b[0m             \u001b[0;32mif\u001b[0m \u001b[0mengine\u001b[0m \u001b[0;34m==\u001b[0m \u001b[0;34m\"python\"\u001b[0m\u001b[0;34m:\u001b[0m\u001b[0;34m\u001b[0m\u001b[0;34m\u001b[0m\u001b[0m\n",
            "\u001b[0;32m/opt/anaconda3/envs/my-rdkit-env/lib/python3.7/site-packages/pandas/io/parsers.py\u001b[0m in \u001b[0;36m__init__\u001b[0;34m(self, src, **kwds)\u001b[0m\n\u001b[1;32m   2006\u001b[0m         \u001b[0mkwds\u001b[0m\u001b[0;34m[\u001b[0m\u001b[0;34m\"usecols\"\u001b[0m\u001b[0;34m]\u001b[0m \u001b[0;34m=\u001b[0m \u001b[0mself\u001b[0m\u001b[0;34m.\u001b[0m\u001b[0musecols\u001b[0m\u001b[0;34m\u001b[0m\u001b[0;34m\u001b[0m\u001b[0m\n\u001b[1;32m   2007\u001b[0m \u001b[0;34m\u001b[0m\u001b[0m\n\u001b[0;32m-> 2008\u001b[0;31m         \u001b[0mself\u001b[0m\u001b[0;34m.\u001b[0m\u001b[0m_reader\u001b[0m \u001b[0;34m=\u001b[0m \u001b[0mparsers\u001b[0m\u001b[0;34m.\u001b[0m\u001b[0mTextReader\u001b[0m\u001b[0;34m(\u001b[0m\u001b[0msrc\u001b[0m\u001b[0;34m,\u001b[0m \u001b[0;34m**\u001b[0m\u001b[0mkwds\u001b[0m\u001b[0;34m)\u001b[0m\u001b[0;34m\u001b[0m\u001b[0;34m\u001b[0m\u001b[0m\n\u001b[0m\u001b[1;32m   2009\u001b[0m         \u001b[0mself\u001b[0m\u001b[0;34m.\u001b[0m\u001b[0munnamed_cols\u001b[0m \u001b[0;34m=\u001b[0m \u001b[0mself\u001b[0m\u001b[0;34m.\u001b[0m\u001b[0m_reader\u001b[0m\u001b[0;34m.\u001b[0m\u001b[0munnamed_cols\u001b[0m\u001b[0;34m\u001b[0m\u001b[0;34m\u001b[0m\u001b[0m\n\u001b[1;32m   2010\u001b[0m \u001b[0;34m\u001b[0m\u001b[0m\n",
            "\u001b[0;32mpandas/_libs/parsers.pyx\u001b[0m in \u001b[0;36mpandas._libs.parsers.TextReader.__cinit__\u001b[0;34m()\u001b[0m\n",
            "\u001b[0;32mpandas/_libs/parsers.pyx\u001b[0m in \u001b[0;36mpandas._libs.parsers.TextReader._setup_parser_source\u001b[0;34m()\u001b[0m\n",
            "\u001b[0;31mFileNotFoundError\u001b[0m: [Errno 2] No such file or directory: 'distance_data_headers.csv'"
          ]
        }
      ],
      "source": [
        "import pandas as pd\n",
        "\n",
        "# Assuming your data is stored in a CSV file called 'data.csv'\n",
        "# Replace 'data.csv' with the path to your actual data file\n",
        "data = pd.read_csv('distance_data_headers.csv')\n",
        "\n",
        "# Calculate the mean of just the 'THR4_ATP' column using every row\n",
        "mean_thr4_atp = data['THR4_ATP'].mean()\n",
        "\n",
        "print(\"Mean of THR4_ATP column:\", mean_thr4_atp)\n"
      ]
    },
    {
      "cell_type": "code",
      "execution_count": null,
      "metadata": {},
      "outputs": [],
      "source": []
    },
    {
      "cell_type": "markdown",
      "metadata": {},
      "source": [
        "## Prompt Engineering\n",
        "## Specificity\n",
        "Be clear and specific with your instructions: When asking for a chemical reaction mechanism, specify the type of reaction (e.g., nucleophilic substitution) and any particular conditions (e.g., solvent, temperature) that should be considered.\n",
        "Clear tasks or questions will usually get better responses: For example, instead of asking \"How does this compound react?\", ask \"What are the major products when compound X reacts with Y under acidic conditions?\"\n",
        "Longer, more detailed prompts often produce better results: Provide complete information about the reactants, possible catalysts, and the desired type of reaction outcome to help the model generate a more accurate response.\n",
        "Delimiters can help the model separate conceptual sections of your prompt: For instance, you can differentiate between the reaction setup and the question by using bullet points or separating them with line breaks.\n",
        "Context\n",
        "Give ample context on what you’re trying to achieve and how: If you're looking for a synthesis pathway, describe the starting materials and the target molecule, including functional groups and stereochemistry.\n",
        "Role prompting can help you give initial context on how the model should respond to future prompts: You could set up a scenario where the model acts as a research chemist who is designing a novel synthetic route.\n",
        "Few-shot prompting means that you’re adding examples of your expected output to your prompt: Provide examples of similar chemical reactions or pathways to guide the model on the type of response you expect.\n",
        "## Reasoning\n",
        "Instruct the model to build complex answers incrementally instead of pushing for immediate answers: Request a step-by-step explanation of a reaction mechanism, detailing each intermediate and transition state.\n",
        "Spelling out the necessary steps for completing the task helps the model correctly do tasks that would otherwise produce incorrect results: For computational chemistry tasks, describe each computational method or software to be used, along with the desired outputs (e.g., energy minimization, charge distribution).\n",
        "Even without spelling out the steps yourself, you can often improve the results by adding a sentence that asks the model to tackle the challenge step by step: For example, \"Please describe each step involved in the electrophilic addition of HBr to 1-butene.\"\n",
        "When asking the model to assess whether a provided input is correct, ask the model to build its own solution first before deciding: If questioning the plausibility of a synthetic route, provide the route and ask the model to suggest possible improvements or identify potential issues in the proposed steps.\n",
        "These adaptations help ensure that your prompts are tailored to generate more precise and relevant answers in a chemistry context, improving the utility of responses for educational, research, or practical applications."
      ]
    },
    {
      "cell_type": "markdown",
      "metadata": {},
      "source": []
    }
  ],
  "metadata": {
    "kernelspec": {
      "display_name": "Python 3",
      "language": "python",
      "name": "python3"
    },
    "language_info": {
      "mimetype": "text/x-python",
      "name": "python",
      "version": "3.8.5"
    }
  },
  "nbformat": 4,
  "nbformat_minor": 4
}
